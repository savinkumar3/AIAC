{
  "nbformat": 4,
  "nbformat_minor": 0,
  "metadata": {
    "colab": {
      "provenance": []
    },
    "kernelspec": {
      "name": "python3",
      "display_name": "Python 3"
    },
    "language_info": {
      "name": "python"
    }
  },
  "cells": [
    {
      "cell_type": "markdown",
      "source": [
        "Task Description#1\n",
        "●\tZero-shot: Prompt AI to write a function that checks whether a given year is a leap year.\n",
        "Expected Output#1\n",
        "●\tAI-generated function with no examples provided\n"
      ],
      "metadata": {
        "id": "MUE1WRmZA1hn"
      }
    },
    {
      "cell_type": "code",
      "source": [
        "def is_leap(year):\n",
        "  \"\"\"\n",
        "  Checks if a given year is a leap year.\n",
        "\n",
        "  Args:\n",
        "    year: The year to check.\n",
        "\n",
        "  Returns:\n",
        "    True if the year is a leap year, False otherwise.\n",
        "  \"\"\"\n",
        "  if (year % 4 == 0 and year % 100 != 0) or (year % 400 == 0):\n",
        "    return True\n",
        "  else:\n",
        "    return False\n",
        "\n",
        "# Example usage:\n",
        "# print(is_leap(2000))\n",
        "# print(is_leap(1900))\n",
        "# print(is_leap(2024))"
      ],
      "metadata": {
        "id": "yWLwY1MrA6ju"
      },
      "execution_count": null,
      "outputs": []
    },
    {
      "cell_type": "code",
      "metadata": {
        "colab": {
          "base_uri": "https://localhost:8080/"
        },
        "id": "dc13068b",
        "outputId": "b354bf69-eba6-4e61-9927-7b97769b49cc"
      },
      "source": [
        "# Example usage of the is_leap function\n",
        "year_to_check =int(input ())\n",
        "if is_leap(year_to_check):\n",
        "  print(f\"{year_to_check} is a leap year.\")\n",
        "else:\n",
        "  print(f\"{year_to_check} is not a leap year.\")"
      ],
      "execution_count": null,
      "outputs": [
        {
          "output_type": "stream",
          "name": "stdout",
          "text": [
            "2024\n",
            "2024 is a leap year.\n"
          ]
        }
      ]
    },
    {
      "cell_type": "code",
      "source": [],
      "metadata": {
        "id": "LzXx1O1hUA9T"
      },
      "execution_count": null,
      "outputs": []
    },
    {
      "cell_type": "markdown",
      "source": [
        "Task Description#2\n",
        "●\tOne-shot: Give one input-output example to guide AI in writing a function that converts centimeters to inches.\n",
        "Expected Output#2\n",
        "●\tFunction with correct conversion logic\n"
      ],
      "metadata": {
        "id": "tt4YNPnRUniO"
      }
    },
    {
      "cell_type": "code",
      "source": [],
      "metadata": {
        "id": "Jmje0V_jU9Zi"
      },
      "execution_count": null,
      "outputs": []
    },
    {
      "cell_type": "code",
      "metadata": {
        "colab": {
          "base_uri": "https://localhost:8080/"
        },
        "id": "66626057",
        "outputId": "5bc7d964-2343-4f85-e985-f5dacf551b22"
      },
      "source": [
        "def centimeters_to_inches(cm):\n",
        "  \"\"\"\n",
        "  Converts centimeters to inches.\n",
        "\n",
        "  Args:\n",
        "    cm: The length in centimeters.\n",
        "\n",
        "  Returns:\n",
        "    The length in inches.\n",
        "  \"\"\"\n",
        "  # Using the more precise conversion factor\n",
        "  return cm * 0.393701\n",
        "\n",
        "# Get input from the user\n",
        "try:\n",
        "  cm_value = float(input(\"Enter the length in centimeters: \"))\n",
        "  # Convert and print the result\n",
        "  inches_value = centimeters_to_inches(cm_value)\n",
        "  print(f\"{cm_value} centimeters is equal to {inches_value:.2f} inches.\")\n",
        "except ValueError:\n",
        "  print(\"Invalid input. Please enter a numeric value for centimeters.\")"
      ],
      "execution_count": null,
      "outputs": [
        {
          "output_type": "stream",
          "name": "stdout",
          "text": [
            "Enter the length in centimeters: 1\n",
            "1.0 centimeters is equal to 0.39 inches.\n"
          ]
        }
      ]
    },
    {
      "cell_type": "markdown",
      "source": [
        "Task Description#3\n",
        "●\tFew-shot: Provide 2–3 examples to generate a function that formats full names as “Last, First”.\n",
        "Expected Output#3\n",
        "●\tWell-structured function respecting the examples\n"
      ],
      "metadata": {
        "id": "e_7kNxiRVjSP"
      }
    },
    {
      "cell_type": "code",
      "source": [
        "def format_name(full_name):\n",
        "  \"\"\"\n",
        "  Formats a full name as \"Last, First\".\n",
        "\n",
        "  Args:\n",
        "    full_name: The full name (e.g., \"Chimtu Poodari\").\n",
        "\n",
        "  Returns:\n",
        "    The formatted name (e.g., \"Poodari, Chimtu\").\n",
        "  \"\"\"\n",
        "  parts = full_name.split()\n",
        "  if len(parts) >= 2:\n",
        "    first_name = parts[0]\n",
        "    last_name = parts[-1]\n",
        "    return f\"{last_name}, {first_name}\"\n",
        "  else:\n",
        "    return full_name # Return original name if not enough parts\n",
        "\n",
        "# Example usage:\n",
        "# name1 = \"Chimtu Poodari\"\n",
        "# formatted_name1 = format_name(name1)\n",
        "# print(f\"Original: {name1}, Formatted: {formatted_name1}\")\n",
        "\n",
        "# name2 = \"Rakesh Bollam\"\n",
        "# formatted_name2 = format_name(name2)\n",
        "# print(f\"Original: {name2}, Formatted: {formatted_name2}\")"
      ],
      "metadata": {
        "id": "15wA-d9mV-0i"
      },
      "execution_count": null,
      "outputs": []
    },
    {
      "cell_type": "code",
      "metadata": {
        "colab": {
          "base_uri": "https://localhost:8080/"
        },
        "id": "84ad02cf",
        "outputId": "90bae45e-4e7a-4a57-ec61-296c0ff458a8"
      },
      "source": [
        "# Get input from the user\n",
        "full_name = input(\"Enter a full name: \")\n",
        "\n",
        "# Use the format_name function\n",
        "formatted_name = format_name(full_name)\n",
        "\n",
        "# Print the formatted name\n",
        "print(f\"Formatted name: {formatted_name}\")"
      ],
      "execution_count": null,
      "outputs": [
        {
          "output_type": "stream",
          "name": "stdout",
          "text": [
            "Enter a full name: Nepolian Mukkera \n",
            "Formatted name: Mukkera, Nepolian\n"
          ]
        }
      ]
    },
    {
      "cell_type": "markdown",
      "source": [
        "Task Description#4\n",
        "●\tCompare zero-shot and few-shot prompts for writing a function that counts the number of vowels in a string.\n",
        "Expected Output#4\n",
        "●\tFunctional output and comparative reflection\n"
      ],
      "metadata": {
        "id": "soxHEez3Wkwg"
      }
    },
    {
      "cell_type": "code",
      "source": [
        "def count_vowels(text):\n",
        "  \"\"\"\n",
        "  Counts the number of vowels in a string.\n",
        "\n",
        "  Args:\n",
        "    text: The input string.\n",
        "\n",
        "  Returns:\n",
        "    The number of vowels in the string.\n",
        "  \"\"\"\n",
        "  vowels = \"aeiouAEIOU\"\n",
        "  vowel_count = 0\n",
        "  for char in text:\n",
        "    if char in vowels:\n",
        "      vowel_count += 1\n",
        "  return vowel_count\n",
        "\n",
        "# Example usage:\n",
        "# input_string = input(\"Enter a string: \")\n",
        "# num_vowels = count_vowels(input_string)\n",
        "# print(f\"The number of vowels in the string is: {num_vowels}\")"
      ],
      "metadata": {
        "id": "l3PuZg_EXAyf"
      },
      "execution_count": null,
      "outputs": []
    },
    {
      "cell_type": "code",
      "metadata": {
        "colab": {
          "base_uri": "https://localhost:8080/"
        },
        "id": "66b4b785",
        "outputId": "e750b3e4-7668-4fb6-8518-29bc5b59bfdf"
      },
      "source": [
        "# Get input from the user\n",
        "input_string = input(\"Enter a string: \")\n",
        "\n",
        "# Use the count_vowels function\n",
        "num_vowels = count_vowels(input_string)\n",
        "\n",
        "# Print the result\n",
        "print(f\"The number of vowels in the string is: {num_vowels}\")"
      ],
      "execution_count": null,
      "outputs": [
        {
          "output_type": "stream",
          "name": "stdout",
          "text": [
            "Enter a string: Nepolian\n",
            "The number of vowels in the string is: 4\n"
          ]
        }
      ]
    },
    {
      "cell_type": "code",
      "source": [
        "# Get input from the user\n",
        "input_string = input(\"Enter a string: \")\n",
        "\n",
        "# Use the count_vowels function\n",
        "num_vowels = count_vowels(input_string)\n",
        "\n",
        "# Print the result\n",
        "print(f\"No.of.vowels={num_vowels}\")"
      ],
      "metadata": {
        "colab": {
          "base_uri": "https://localhost:8080/"
        },
        "id": "4S8MS1rAXSV2",
        "outputId": "592f1179-f8e9-40f6-c184-3f8277dc5205"
      },
      "execution_count": null,
      "outputs": [
        {
          "output_type": "stream",
          "name": "stdout",
          "text": [
            "Enter a string: Nepolian\n",
            "No.of.vowels=4\n"
          ]
        }
      ]
    },
    {
      "cell_type": "markdown",
      "source": [
        "Task Description#5\n",
        "●\tUse few-shot prompting to generate a function that reads a .txt file and returns the number of lines.\n",
        "Expected Output#5\n",
        "●\tWorking file-processing function with AI-guided logic\n"
      ],
      "metadata": {
        "id": "NFfEUCilX9xd"
      }
    },
    {
      "cell_type": "code",
      "source": [
        "import os\n",
        "\n",
        "# Assuming the file is uploaded to the Colab session root directory\n",
        "file_path = \"AI.1.txt\" # Check the file path in the files tab on the left\n",
        "\n",
        "try:\n",
        "  with open(file_path, 'r') as file:\n",
        "    line_count = sum(1 for line in file)\n",
        "  print(f\"The number of lines in the file is: {line_count}\")\n",
        "except FileNotFoundError:\n",
        "  print(f\"Error: The file '{file_path}' was not found. Please make sure you have uploaded the file and the path is correct.\")\n",
        "except Exception as e:\n",
        "  print(f\"An error occurred: {e}\")"
      ],
      "metadata": {
        "colab": {
          "base_uri": "https://localhost:8080/"
        },
        "id": "KDxc-IaxYEGA",
        "outputId": "c1333a44-c928-4d61-8ece-c12a86182851"
      },
      "execution_count": null,
      "outputs": [
        {
          "output_type": "stream",
          "name": "stdout",
          "text": [
            "The number of lines in the file is: 3\n"
          ]
        }
      ]
    }
  ]
}